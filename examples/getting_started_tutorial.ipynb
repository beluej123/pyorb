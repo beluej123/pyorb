{
 "cells": [
  {
   "cell_type": "markdown",
   "id": "45765fbe",
   "metadata": {},
   "source": [
    "# Get started tutorial\n",
    "This notebook ilusrates some of the basic functionality of the package\n",
    "\n",
    "## Basics"
   ]
  },
  {
   "cell_type": "code",
   "execution_count": null,
   "id": "fee15fd1",
   "metadata": {},
   "outputs": [],
   "source": [
    "import pyorb\n",
    "print(f'pyorb=={pyorb.__version__}')"
   ]
  },
  {
   "cell_type": "markdown",
   "id": "74f78967",
   "metadata": {},
   "source": [
    "We first create a standard orbit around the sun in SI units"
   ]
  },
  {
   "cell_type": "code",
   "execution_count": null,
   "id": "adf404c4",
   "metadata": {},
   "outputs": [],
   "source": [
    "orb = pyorb.Orbit(M0 = pyorb.M_sol)"
   ]
  },
  {
   "cell_type": "markdown",
   "id": "ad7c4311",
   "metadata": {},
   "source": [
    "Lets switch to degrees for more human readable units, this can also be given at orbit creation as a keyword parameter"
   ]
  },
  {
   "cell_type": "code",
   "execution_count": null,
   "id": "40e37664",
   "metadata": {},
   "outputs": [],
   "source": [
    "orb.degrees = True"
   ]
  },
  {
   "cell_type": "markdown",
   "id": "915e0f29",
   "metadata": {},
   "source": [
    "Currently the orbit has no values"
   ]
  },
  {
   "cell_type": "code",
   "execution_count": null,
   "id": "fd6c2629",
   "metadata": {},
   "outputs": [],
   "source": [
    "print(orb)"
   ]
  },
  {
   "cell_type": "markdown",
   "id": "4764312a",
   "metadata": {},
   "source": [
    "We can now give it a circular orbit in the plane by calling the `update` method. \n",
    "\n",
    "Now when we print the `Orbit` object it will also show the cartesian coordinates as by default conversion between cartesian and kepler elements is automatic. The `Orbit` class also has a number of properties that automatically calculate quantities such as the orbital period from the known elements."
   ]
  },
  {
   "cell_type": "code",
   "execution_count": null,
   "id": "56cd0034",
   "metadata": {},
   "outputs": [],
   "source": [
    "orb.update(a=1*pyorb.AU, e=0, i=0, omega=0, Omega=0, anom=0)\n",
    "print(orb)\n",
    "print(f'Orbital period: {orb.period/(3600.0*24)} days')"
   ]
  },
  {
   "cell_type": "markdown",
   "id": "4882f591",
   "metadata": {},
   "source": [
    "We can also look at the position and velocity separatly, for a complete list of properties, see the API documentation"
   ]
  },
  {
   "cell_type": "code",
   "execution_count": null,
   "id": "055d91d8",
   "metadata": {},
   "outputs": [],
   "source": [
    "print(f'Orbit X-position is {orb.x*1e-3} km')\n",
    "print(f'Orbit velocity vector is [km/s] \\n{orb.v*1e-3}')"
   ]
  },
  {
   "cell_type": "markdown",
   "id": "84ec043b",
   "metadata": {},
   "source": [
    "When accessing the `orb.x` a numpy array of shape `(1,)` is returned. This is due to the fact that the `Orbit` class is naturally vectorized and can support handling `n` orbits simultaniusly. Using this feature greatly reduces computation time when large number of orbits should be converted or modified simulatniusly. We can see the number of orbits currently stored with the `num` property but it also support `len`."
   ]
  },
  {
   "cell_type": "code",
   "execution_count": null,
   "id": "208bb25e",
   "metadata": {},
   "outputs": [],
   "source": [
    "print(f'Orbit length = {len(orb)}')\n",
    "print(f'Orbit.num = {orb.num}')"
   ]
  },
  {
   "cell_type": "markdown",
   "id": "c338d9bd",
   "metadata": {},
   "source": [
    "Lastly, we can copy the orbit using the `copy` method."
   ]
  },
  {
   "cell_type": "code",
   "execution_count": null,
   "id": "9451df91",
   "metadata": {},
   "outputs": [],
   "source": [
    "orb2 = orb.copy()\n",
    "print(orb)\n",
    "print('\\n')\n",
    "print(orb2)"
   ]
  },
  {
   "cell_type": "markdown",
   "id": "a7ae1242",
   "metadata": {},
   "source": [
    "Some useful properties to access are the different kepler anomalies. Here the transfer between them is done by solving the kepler equation. For more information on how the kepler equation is solved, see the `kepler` module in the API documentation. Which anomaly is displayed as `anom` is indicated by the `type` attribute."
   ]
  },
  {
   "cell_type": "code",
   "execution_count": null,
   "id": "b3688ec7",
   "metadata": {},
   "outputs": [],
   "source": [
    "orb2.vz += 3e3\n",
    "orb2.y += 0.1*pyorb.AU\n",
    "print(f'orb.type             =\"{orb2.type}\"')\n",
    "print(f'orb.anom             ={orb2.anom} deg')\n",
    "print(f'orb.mean_anomaly     ={orb2.mean_anomaly} deg')\n",
    "print(f'orb.eccentric_anomaly={orb2.eccentric_anomaly} deg')\n",
    "print(f'orb.true_anomaly     ={orb2.true_anomaly} deg')"
   ]
  },
  {
   "cell_type": "markdown",
   "id": "1c88e08d",
   "metadata": {},
   "source": [
    "Now, since the updating of cartesian and kepler elements are automatic, as soon as we modify any cartesian elements the new kepler elements will be calculated and stored"
   ]
  },
  {
   "cell_type": "code",
   "execution_count": null,
   "id": "a4a177fb",
   "metadata": {},
   "outputs": [],
   "source": [
    "orb.x += 0.1*pyorb.AU\n",
    "print(orb)"
   ]
  },
  {
   "cell_type": "markdown",
   "id": "42107e95",
   "metadata": {},
   "source": [
    "## Updating rules\n",
    "\n",
    "We can disable this feature using the `auto_update` attribute and the `direct_update` attribute. The `direct_update` decides if a re-calculation of the counterpart elements should be performed as soon as a value is changed while the `auto_update` decides if a recalculation should be performed when an element is accessed. Hence, if `auto_update` does not matter if `direct_update` is set to `True`.\n",
    "\n",
    "Lets try this out by disabling `direct_update`!"
   ]
  },
  {
   "cell_type": "code",
   "execution_count": null,
   "id": "cc7b3525",
   "metadata": {},
   "outputs": [],
   "source": [
    "print('Before:')\n",
    "print(orb)\n",
    "orb.direct_update = False\n",
    "orb.x -= 0.05*pyorb.AU\n",
    "print('\\nAfter:')\n",
    "print(orb)"
   ]
  },
  {
   "cell_type": "markdown",
   "id": "1055ead8",
   "metadata": {},
   "source": [
    "As you can see above the cartesian coordinates changed but the kepler did not, they are now in dissagreement. However, internally the `orb` object knows this (using the private `__kep_calculated` array). Now, since `auto_update` is still true, if we access any cartesian variable we will trigger a conversion from kepler to cartesian to harmonize the two coordinate systems."
   ]
  },
  {
   "cell_type": "code",
   "execution_count": null,
   "id": "656452b0",
   "metadata": {},
   "outputs": [],
   "source": [
    "print(orb.kepler)"
   ]
  },
  {
   "cell_type": "markdown",
   "id": "ab665c9a",
   "metadata": {},
   "source": [
    "Disabling also this feature will allow us to make transformation between the two systems manually without any tracking of harmony between the systems."
   ]
  },
  {
   "cell_type": "code",
   "execution_count": null,
   "id": "9c471a40",
   "metadata": {},
   "outputs": [],
   "source": [
    "print('Before:')\n",
    "print(orb)\n",
    "orb.auto_update = False\n",
    "orb.a = 1*pyorb.AU\n",
    "print('\\nAfter:')\n",
    "print(orb)"
   ]
  },
  {
   "cell_type": "markdown",
   "id": "d885a925",
   "metadata": {},
   "source": [
    "We can manually calculate cartesian from kepler using `calculate_cartesian()` or vice-versa using `calculate_kepler()`"
   ]
  },
  {
   "cell_type": "code",
   "execution_count": null,
   "id": "73af0127",
   "metadata": {},
   "outputs": [],
   "source": [
    "orb.calculate_cartesian()\n",
    "print(orb)"
   ]
  },
  {
   "cell_type": "markdown",
   "id": "8ef3830c",
   "metadata": {},
   "source": [
    "## Units\n",
    "\n",
    "We can also create orbits with an arbitrary system of units. Some combinations are implement as standard, otherwise just pass a float that describes the conversion between SI and your unit of choice."
   ]
  },
  {
   "cell_type": "code",
   "execution_count": null,
   "id": "1481b958",
   "metadata": {
    "scrolled": true
   },
   "outputs": [],
   "source": [
    "G_au = pyorb.get_G(length='AU', mass='kg', time='s')\n",
    "print(f'SI gravitation constant: {pyorb.G} m^3 kg^-1 s^-2')\n",
    "print(f'Alternative gravitation constant: {G_au} AU^3 kg^-1 s^-2')"
   ]
  },
  {
   "cell_type": "markdown",
   "id": "a483d346",
   "metadata": {},
   "source": [
    "We use these units by setting the `G` of the `Orbit` instance. Now we see that both the velocity and positions have changed to AU and AU/year"
   ]
  },
  {
   "cell_type": "code",
   "execution_count": null,
   "id": "be717936",
   "metadata": {
    "scrolled": false
   },
   "outputs": [],
   "source": [
    "orb_customG = pyorb.Orbit(\n",
    "    M0=pyorb.M_sol, G=G_au, \n",
    "    a=1, e=0, i=0, \n",
    "    omega=0, Omega=0, anom=0,\n",
    ")\n",
    "print(orb_customG)\n",
    "print(f'Orbital period: {orb_customG.period/(3600.0*24)} days\\n')"
   ]
  },
  {
   "cell_type": "markdown",
   "id": "fc818426",
   "metadata": {},
   "source": [
    "We can also change this on the fly and apply a common system of units for dynamical astronomy, which is \"Astronomical units-Solar masses-years\""
   ]
  },
  {
   "cell_type": "code",
   "execution_count": null,
   "id": "c5fcfe39",
   "metadata": {},
   "outputs": [],
   "source": [
    "G_ast = pyorb.get_G(length='AU', mass='Msol', time='y')\n",
    "print(f'Astronomical gravitation constant: {G_ast} AU^3 Msol^-1 y^-2')\n",
    "orb_customG.G = G_ast"
   ]
  },
  {
   "cell_type": "markdown",
   "id": "63468422",
   "metadata": {},
   "source": [
    "We also need to update the central mass and recalculate the cartesian elements (since mass and gravitational constant updates do not trigger the automatic updating as it only concerns variables, not constants).\n",
    "\n",
    "Since Kepler elements only have one variable with a physical quantity, the semi-major-axis, and we have not changed the `length` units, it is still \"AU\", this change only affects the cartesian elements."
   ]
  },
  {
   "cell_type": "code",
   "execution_count": null,
   "id": "480e6e46",
   "metadata": {},
   "outputs": [],
   "source": [
    "orb_customG.M0 = 1.0\n",
    "orb_customG.calculate_cartesian()\n",
    "print(orb2)\n",
    "print(f'Orbital period: {orb_customG.period} years')"
   ]
  },
  {
   "cell_type": "markdown",
   "id": "2d511d09",
   "metadata": {},
   "source": [
    "The orbital speed should be approximately $2\\pi$ as this is the circumference of a circle with radius 1 AU in units of AU"
   ]
  },
  {
   "cell_type": "code",
   "execution_count": null,
   "id": "134361fd",
   "metadata": {},
   "outputs": [],
   "source": [
    "print(f'Orbital speed: {orb_customG.velocity} AU/y')"
   ]
  },
  {
   "cell_type": "code",
   "execution_count": null,
   "id": "48c0e17b",
   "metadata": {},
   "outputs": [],
   "source": []
  }
 ],
 "metadata": {
  "kernelspec": {
   "display_name": "Python 3 (ipykernel)",
   "language": "python",
   "name": "python3"
  },
  "language_info": {
   "codemirror_mode": {
    "name": "ipython",
    "version": 3
   },
   "file_extension": ".py",
   "mimetype": "text/x-python",
   "name": "python",
   "nbconvert_exporter": "python",
   "pygments_lexer": "ipython3",
   "version": "3.9.7"
  }
 },
 "nbformat": 4,
 "nbformat_minor": 5
}
